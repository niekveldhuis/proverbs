{
 "cells": [
  {
   "cell_type": "code",
   "execution_count": null,
   "id": "479073f2-e0b0-42e4-91c3-6566936a6158",
   "metadata": {},
   "outputs": [],
   "source": [
    "import pandas as pd\n",
    "import zipfile\n",
    "import json\n",
    "from tqdm.auto import tqdm\n",
    "import os\n",
    "import sys\n",
    "util_dir = os.path.abspath('../compass/utils')\n",
    "sys.path.append(util_dir)\n",
    "import utils"
   ]
  },
  {
   "cell_type": "code",
   "execution_count": null,
   "id": "5cfd443a-6e6c-4799-8cd3-0db81f800b96",
   "metadata": {},
   "outputs": [],
   "source": [
    "os.makedirs('jsonzip', exist_ok = True)\n",
    "os.makedirs('output', exist_ok = True)"
   ]
  },
  {
   "cell_type": "code",
   "execution_count": null,
   "id": "1746334d-ea49-475d-a9df-cafdf5ca4b6e",
   "metadata": {},
   "outputs": [],
   "source": [
    "projects = input('Project(s): ').lower().strip()\n",
    "project_list = utils.format_project_list(projects)"
   ]
  },
  {
   "cell_type": "code",
   "execution_count": null,
   "id": "7aebfc89-027f-420e-a22d-d039ffd531d5",
   "metadata": {},
   "outputs": [],
   "source": [
    "project_list = utils.oracc_download(project_list)"
   ]
  },
  {
   "cell_type": "code",
   "execution_count": null,
   "id": "e2f608d9-3d9c-4c21-9f78-67a72553fd86",
   "metadata": {},
   "outputs": [],
   "source": [
    "def parsejson(text, meta_d):\n",
    "    lemmas = []\n",
    "    for JSONobject in text[\"cdl\"]:\n",
    "        if \"cdl\" in JSONobject: \n",
    "            lemmas.extend(parsejson(JSONobject, meta_d))\n",
    "        if \"label\" in JSONobject: \n",
    "            meta_d[\"label\"] = JSONobject['label']   # `label` is the line number; it stays constant until\n",
    "                                                    # the process move to a new line\n",
    "        \n",
    "        if JSONobject.get(\"type\") == \"field-start\": # this is for sign lists, identifying fields such as\n",
    "            meta_d[\"field\"] = JSONobject[\"subtype\"]  # sign, pronunciation, translation.\n",
    "        elif JSONobject.get(\"type\") == \"field-end\":\n",
    "            meta_d.pop(\"field\", None)                           # remove the key \"field\" to prevent it from being copied \n",
    "                                                              # to all subsequent lemmas (which may not have fields)\n",
    "        if \"f\" in JSONobject:\n",
    "            lemma = JSONobject[\"f\"]\n",
    "            lemma[\"id_word\"] = JSONobject[\"ref\"]\n",
    "            lemma['label'] = meta_d[\"label\"]\n",
    "            lemma[\"id_text\"] = meta_d[\"id_text\"]\n",
    "            if \"field\" in meta_d:\n",
    "                lemma[\"field\"] = meta_d[\"field\"]\n",
    "            lemmas.append(lemma)\n",
    "    return lemmas"
   ]
  },
  {
   "cell_type": "code",
   "execution_count": null,
   "id": "26bc4726-0f4e-4d4a-a07f-b377de556af0",
   "metadata": {},
   "outputs": [],
   "source": [
    "lemm_l = []\n",
    "meta_d = {\"label\": None, \"id_text\": None}\n",
    "for project in project_list:\n",
    "    file = f'jsonzip/{project.replace(\"/\", \"-\")}.zip'\n",
    "    try:\n",
    "        zip_file = zipfile.ZipFile(file)       # create a Zipfile object\n",
    "    except:\n",
    "        errors = sys.exc_info() # get error information\n",
    "        print(file), print(errors[0]), print(errors[1]) # and print it\n",
    "        continue\n",
    "    files = zip_file.namelist()     # list of all the files in the ZIP\n",
    "    files = [name for name in files if \"corpusjson\" in name and name[-5:] == '.json']                                                                                                  #that holds all the P, Q, and X numbers.\n",
    "    for filename in tqdm(files, desc = project):       #iterate over the file names\n",
    "        id_text = project + filename[-13:-5] # id_text is, for instance, blms/P414332\n",
    "        meta_d[\"id_text\"] = id_text\n",
    "        try:\n",
    "            text_json_string = zip_file.read(filename).decode('utf-8')         #read and decode the json file of one particular text\n",
    "            data_json = json.loads(text_json_string)                # make it into a json object (essentially a dictionary)\n",
    "            lemm_l.extend(parsejson(data_json, meta_d))     # and send to the parsejson() function\n",
    "        except:\n",
    "            e = sys.exc_info() # get error information\n",
    "            print(filename), print(e[0]), print(e[1]) # and print it\n",
    "    zip_file.close()"
   ]
  },
  {
   "cell_type": "code",
   "execution_count": null,
   "id": "4da3ec8a-2b24-4c92-a097-ae8a0a7204a3",
   "metadata": {},
   "outputs": [],
   "source": [
    "words_df = pd.DataFrame(lemm_l)\n",
    "words_df = words_df.fillna('')   # replace NaN (Not a Number) with empty string\n",
    "words_df"
   ]
  },
  {
   "cell_type": "code",
   "execution_count": null,
   "id": "988f2884-ae3f-42a6-8733-eadd348ec08b",
   "metadata": {},
   "outputs": [],
   "source": [
    "findreplace = {' ' : '-', ',' : ''}\n",
    "words_df = words_df.replace({'gw' : findreplace, 'sense' : findreplace}, regex=True)"
   ]
  },
  {
   "cell_type": "code",
   "execution_count": null,
   "id": "cec721df-8ed1-482b-a1f8-4acae9a4adbe",
   "metadata": {},
   "outputs": [],
   "source": [
    "words_df = words_df[~words_df.form.str.contains('x')]\n",
    "words_df = words_df[~words_df.form.str.contains('X')]\n",
    "words_df = words_df[words_df.lang.str.startswith('sux')]"
   ]
  },
  {
   "cell_type": "code",
   "execution_count": null,
   "id": "7d9fec15-0cfa-4697-b6b3-3dffc685fa21",
   "metadata": {},
   "outputs": [],
   "source": [
    "keep = ['form', 'cf', 'gw', 'pos', 'norm0', 'base', 'id_text']\n",
    "words_df = words_df[keep]"
   ]
  },
  {
   "cell_type": "code",
   "execution_count": null,
   "id": "6225a895-173f-4b22-97fe-38f4ee45b4a1",
   "metadata": {},
   "outputs": [],
   "source": [
    "dsst_id = [idtext[-7:] for idtext in words_df['id_text'] if idtext.startswith('dsst')]\n",
    "dsst_id = list(set(dsst_id))\n",
    "duplicates = [idtext for idtext in words_df['id_text'] if idtext[-7:] in dsst_id]\n",
    "duplicates = list(set(duplicates))\n",
    "duplicates = [idtext for idtext in duplicates if not idtext.startswith('dsst')]"
   ]
  },
  {
   "cell_type": "code",
   "execution_count": null,
   "id": "61b7a8c3-75dc-4505-8343-e4bcf5855718",
   "metadata": {},
   "outputs": [],
   "source": [
    "words_df = words_df[~words_df.id_text.isin(duplicates)]"
   ]
  },
  {
   "cell_type": "code",
   "execution_count": null,
   "id": "9b87c15c-4a06-4a97-8516-5625f77d9f37",
   "metadata": {},
   "outputs": [],
   "source": [
    "words_df"
   ]
  },
  {
   "cell_type": "code",
   "execution_count": null,
   "id": "e4f40f86-5c0e-4fe3-8e5d-b2c22de36afc",
   "metadata": {},
   "outputs": [],
   "source": [
    "words_l = []\n",
    "separators = ['{', '}', '-']\n",
    "separators2 = ['.', '+', '|']\n",
    "operators = ['&', '%', '@', '×']\n",
    "for e in tqdm(words_df.form):\n",
    "    word = []\n",
    "    if '1(šar₂{gal})' in e: # this cheating but it seems to work (appears in SKL 38)\n",
    "            e = e.replace('1(šar₂{gal})', '1(šar₂)-gal')\n",
    "    for s in separators: # first split word into signs   \n",
    "        e = e.replace(s, ' ').strip()\n",
    "    s_l = e.split()\n",
    "    for sign in s_l:\n",
    "        if sign[0].isdigit(): # 1(geš₂), 2(DIŠ), etc.\n",
    "            sign = sign.lower()\n",
    "        elif sign[-1] == ')': # qualified sign - get only the qualifier\n",
    "            stack = []  # |GIŠ×(GIŠ%GIŠ)|(LAK277) becomes LAK277\n",
    "            ind = {}    # LAK277(|GIŠ×(GIŠ%GIŠ)|) becomes |GIŠ×(GIŠ%GIŠ)|\n",
    "            for i, c in reversed(list(enumerate(sign))):\n",
    "                if c == ')':\n",
    "                    stack.append(i)\n",
    "                if c == '(':\n",
    "                    ind[stack.pop()] = i   # find the opening parens that belongs to the closing parens at position -1    \n",
    "            start = ind[len(sign)-1]   # this line fails on 1(šar₂{gal}) in SKL.\n",
    "            t = sign[start+1:-1]\n",
    "            if t.isupper(): #leave 1(diš) etc. alone\n",
    "                sign = t\n",
    "            \n",
    "        if '|' in sign:  # separate |DU.DU| and |DU+DU| into its components but not |DU&DU|\n",
    "                        # and also not |DU.DU&DU|\n",
    "            flag = False\n",
    "            for o in operators:\n",
    "                if o in sign:\n",
    "                    flag = True\n",
    "            if not flag:\n",
    "                for s in separators2:\n",
    "                    sign = sign.replace(s, ' ').strip() \n",
    "                sign_l = sign.split()\n",
    "                word.extend(sign_l)\n",
    "                continue\n",
    "        elif \"+\" in sign:  # + as marker of gloss\n",
    "            sign = sign.replace('+', ' ').strip()\n",
    "            sign_l = sign.split()\n",
    "            word.extend(sign_l)\n",
    "            continue\n",
    "        word.append(sign)\n",
    "    words_l.append(word)      "
   ]
  },
  {
   "cell_type": "code",
   "execution_count": null,
   "id": "6994ea02-045b-4284-afa9-6d0fbe5739da",
   "metadata": {},
   "outputs": [],
   "source": [
    "words_df['signs'] = words_l"
   ]
  },
  {
   "cell_type": "code",
   "execution_count": null,
   "id": "8f99004f-4462-4c5a-b000-26355c244736",
   "metadata": {},
   "outputs": [],
   "source": [
    "o = pd.read_pickle('ogsl.p', compression = None)"
   ]
  },
  {
   "cell_type": "code",
   "execution_count": null,
   "id": "cc5444aa-8ac9-49a5-9034-9ccc04c124f6",
   "metadata": {},
   "outputs": [],
   "source": [
    "val = list(o[\"value\"])\n",
    "utf = list(o[\"utf8\"])\n",
    "names = list(o[\"name\"])"
   ]
  },
  {
   "cell_type": "code",
   "execution_count": null,
   "id": "6550ddaf-c4d9-4cd6-a89a-b709df92cf2d",
   "metadata": {},
   "outputs": [],
   "source": [
    "d = dict(zip(names, utf))\n",
    "d2 = dict(zip(val,names))"
   ]
  },
  {
   "cell_type": "code",
   "execution_count": null,
   "id": "7ad4a85d-fea5-46de-bf24-9bc719696195",
   "metadata": {},
   "outputs": [],
   "source": [
    "sign_l = []\n",
    "for index, row in words_df.iterrows():\n",
    "    for sign in row['signs']:\n",
    "        n = [sign, row['id_text']]\n",
    "        sign_l.append(n)"
   ]
  },
  {
   "cell_type": "code",
   "execution_count": null,
   "id": "4268cec6-7dfc-4593-a0ea-6e66631d0ed4",
   "metadata": {},
   "outputs": [],
   "source": [
    "signs_df = pd.DataFrame(sign_l, columns = ['value', 'id_text'])\n",
    "signs_df['sign_name'] = [d2.get(s.lower(), s) for s in signs_df.value]\n",
    "signs_df['utf8'] = [d.get(n, n) for n in signs_df.sign_name]\n",
    "signs_df = signs_df[['value', 'sign_name', 'utf8', 'id_text']]\n",
    "signs_df"
   ]
  },
  {
   "cell_type": "code",
   "execution_count": null,
   "id": "f4ef4e7b-a01e-48a3-90d9-b2cbce036abe",
   "metadata": {},
   "outputs": [],
   "source": [
    "SP_collections = {'Q000795' : 'SP1', \n",
    "            'Q000796' : 'SP2+6',\n",
    "            'Q000797' : 'SP3',\n",
    "            'Q000798' : 'SP4',\n",
    "            'Q000799' : 'SP5',\n",
    "            'Q000800' : 'SP7',\n",
    "            'Q000801' : 'SP8',\n",
    "            'Q000802' : 'SP9',\n",
    "            'Q000803' : 'SP10', \n",
    "            'Q000804' : 'SP11',\n",
    "            'Q000805' : 'SP12',\n",
    "            'Q000806' : 'SP13',\n",
    "            'Q000807' : 'SP14',\n",
    "            'Q000808' : 'SP15', \n",
    "            'Q000809' : 'SP16',\n",
    "            'Q000810' : 'SP17',\n",
    "            'Q000811' : 'SP18',\n",
    "            'Q000812' : 'SP19',\n",
    "            'Q000813' : 'SP21',\n",
    "            'Q000814' : 'SP22',\n",
    "            'Q000815' : 'SP23',\n",
    "            'Q000816' : 'SP24',\n",
    "            'Q000817' : 'SP25',\n",
    "            'Q000818' : 'SP26',\n",
    "            'Q000819' : 'SP27',\n",
    "            'Q000820' : 'SP28',\n",
    "            'Q000821' : 'SP_Nippur',\n",
    "            'Q000822' : 'SP_Susa',\n",
    "            'Q000823' : 'SP_Ur',\n",
    "            'Q000824' : 'SP_Uruk',\n",
    "            'Q000825' : 'SP_Unknown'}           \n",
    "            "
   ]
  },
  {
   "cell_type": "code",
   "execution_count": null,
   "id": "93b9c45d-6e28-45d9-8e46-335511cf85da",
   "metadata": {},
   "outputs": [],
   "source": []
  }
 ],
 "metadata": {
  "kernelspec": {
   "display_name": "Python 3 (ipykernel)",
   "language": "python",
   "name": "python3"
  },
  "language_info": {
   "codemirror_mode": {
    "name": "ipython",
    "version": 3
   },
   "file_extension": ".py",
   "mimetype": "text/x-python",
   "name": "python",
   "nbconvert_exporter": "python",
   "pygments_lexer": "ipython3",
   "version": "3.9.7"
  }
 },
 "nbformat": 4,
 "nbformat_minor": 5
}
